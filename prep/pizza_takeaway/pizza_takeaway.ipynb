{
 "cells": [
  {
   "cell_type": "markdown",
   "metadata": {},
   "source": [
    "## This Project is building a pizza takeaway ordering system. \n",
    "### Features of this project are:\n",
    "\n",
    "### 1) Customer can order pizza by selecting various options like pizza type, base type, toppings etc.\n",
    "### 2) System should take care of invalid options.\n",
    "### 3) System should be storing customer data to personalize.\n",
    "### 4) At the end, the program should display the itemized order with the total price.\n",
    "\n"
   ]
  },
  {
   "cell_type": "code",
   "execution_count": 91,
   "metadata": {},
   "outputs": [],
   "source": [
    "pizza_type_dict = {}   #dictionary for storing pizza type data   ## e.g., piza_type_dict[P1] = ['Margherita', 3.0]\n",
    "base_type_dict = {}    #dictionary for storing base type data\n",
    "toppings_type_dict = {}   #dictionary to store toppings data\n",
    "cust_data = {}            #dictionary to store customer orders  "
   ]
  },
  {
   "cell_type": "raw",
   "metadata": {},
   "source": [
    "### Example of customer data dictionary \n",
    "\n",
    "cust_data['Karam'] = { 'num_of_orders': 4\n",
    "                        'order_num': [(P1, B1,[T1,T2], 3)]     \n",
    "                     }"
   ]
  },
  {
   "cell_type": "code",
   "execution_count": 92,
   "metadata": {},
   "outputs": [],
   "source": [
    "## Load data into dictionaries\n",
    "def load_data(data_path, type):\n",
    "    data_file = open(data_path, \"r\")\n",
    "    for line in data_file:\n",
    "        splitedLine = line.split(\";\")\n",
    "        if type == 'pizza':\n",
    "            pizza_type_dict[splitedLine[0]] = [splitedLine[1], float(splitedLine[2])]\n",
    "        elif type == 'base':\n",
    "            base_type_dict[splitedLine[0]] = [splitedLine[1], float(splitedLine[2])]\n",
    "        elif type == 'toppings':\n",
    "            toppings_type_dict[splitedLine[0]] = [splitedLine[1], float(splitedLine[2])]\n",
    "    data_file.close()"
   ]
  },
  {
   "cell_type": "code",
   "execution_count": 93,
   "metadata": {},
   "outputs": [],
   "source": [
    "##Print dictionary\n",
    "## This function print the dictionary in the following format\n",
    "\"\"\"\n",
    "Code, Type, Price\n",
    "P1, Margherita, 3.0\n",
    "P2, Chicago, 3.5\n",
    "P3, Greek, 3.0\n",
    "P4, California, 3.5\n",
    "P5, Farm house, 3.0\n",
    "\n",
    "\"\"\"\n",
    "\n",
    "def print_dict(dictionary):\n",
    "    print(\"Code, Type, Price\")\n",
    "    for key in dictionary.keys():\n",
    "        print(\"\"+ key + \", \" + str(dictionary[key][0]) + \", \" + str(dictionary[key][1]))"
   ]
  },
  {
   "cell_type": "code",
   "execution_count": 94,
   "metadata": {},
   "outputs": [],
   "source": [
    "## Generate unique order number for the given customer\n",
    "def generate_order_num(name):\n",
    "    if name in cust_data.keys():             ##Check if customer already exists in cust_data dict\n",
    "        ord_num = cust_data[name]['num_of_orders']\n",
    "        ord_num += 1\n",
    "        return ord_num\n",
    "    else:\n",
    "        ord_num = 0\n",
    "        cust_data[name] = {}\n",
    "        cust_data[name]['num_of_orders'] = ord_num\n",
    "        ord_num += 1\n",
    "        return ord_num"
   ]
  },
  {
   "cell_type": "code",
   "execution_count": 95,
   "metadata": {},
   "outputs": [],
   "source": [
    "#Add orders into the cust_data dictionary\n",
    "def add_cust_data(order_tup, name, order_num):\n",
    "    cust_data[name]['num_of_orders'] = order_num\n",
    "    if order_num in cust_data[name].keys():\n",
    "        l = cust_data[name][order_num]\n",
    "        l.append(order_tup)\n",
    "    else:\n",
    "        l = []\n",
    "        l.append(order_tup)\n",
    "        cust_data[name][order_num] = l\n",
    "    "
   ]
  },
  {
   "cell_type": "code",
   "execution_count": 96,
   "metadata": {},
   "outputs": [],
   "source": [
    "#Calculate the total bill of a customer given the order\n",
    "def calculate_bill(ord_tup):\n",
    "    bill = 0\n",
    "    piza_type = ord_tup[0]\n",
    "    base_type = ord_tup[1]\n",
    "    top_list = ord_tup[2]\n",
    "    qty = ord_tup[3]\n",
    "    bill += pizza_type_dict[piza_type][1]\n",
    "    bill += base_type_dict[base_type][1]\n",
    "    bill += len(top_list)*0.5\n",
    "    bill = bill * qty\n",
    "    return bill"
   ]
  },
  {
   "cell_type": "code",
   "execution_count": 97,
   "metadata": {},
   "outputs": [],
   "source": [
    "def print_complete_order(name, ord_num):\n",
    "    order_list = cust_data[name][ord_num]\n",
    "    print(\"Pizza_type\"+\"-->\"+\"Base_Type\"+ \"-->\"+ \"Toppings\" + \"-->\" + \"-->\" + \"qty\"+ \"-->\" +\"price\")\n",
    "    print(\"-----------------------------------------------\")\n",
    "    for order in order_list:\n",
    "        bill = calculate_bill(order)\n",
    "        print(order[0]+ \"-->\" + order[1] + \"-->\" + str(order[2]) + \"-->\" + str(order[3]) + \"-->\" + str(bill)+\"$\")"
   ]
  },
  {
   "cell_type": "code",
   "execution_count": 101,
   "metadata": {},
   "outputs": [],
   "source": [
    "##Function to order data\n",
    "def order():\n",
    "    print(\"Welcome to the Pizza TakeAway \")\n",
    "    name = input(\"Please enter your name :\")\n",
    "    total_bill = 0\n",
    "    ord_num = generate_order_num(name)\n",
    "    #cust_dict = create_order(name)\n",
    "    print(\"Hello \" + name + \", what type of Pizza would you like to have:\")\n",
    "    print_dict(pizza_type_dict)\n",
    "    piza_type = input(\"please select from above options:\")\n",
    "    piza_type = piza_type.upper()    \n",
    "    while piza_type != 'X': \n",
    "        if piza_type in pizza_type_dict.keys():        \n",
    "            print(\"\\n\")\n",
    "            print(\" Here are the types of base availabe: \")\n",
    "            print_dict(base_type_dict)\n",
    "            base_type = input(\"Please enter your option\")\n",
    "            base_type = base_type.upper()\n",
    "            \n",
    "            ##Check if base code has valid entry\n",
    "            base_flag = 0\n",
    "            while base_flag == 0:\n",
    "                base_flag = 1\n",
    "                if base_type not in base_type_dict.keys():\n",
    "                    base_flag =0\n",
    "                    print(\"It is an invalid option\")\n",
    "                    print(\"\\n\")\n",
    "                    print(\" Here are the types of base availabe: \")\n",
    "                    print_dict(base_type_dict)\n",
    "                    base_type = input(\"Please enter your option\")\n",
    "                    base_type = base_type.upper()\n",
    "                    \n",
    "            print(\"\\n\")\n",
    "            print(\"Please enter the toppings you would like to add from the following list\")\n",
    "            print_dict(toppings_type_dict)\n",
    "            print(\"\\n\")\n",
    "            toppings = input(\"Enter toppings in a comma separated form e.g., if you want to add Olives and mushrooms, enter: T1,T3\")\n",
    "            split_topings = toppings.split(\",\")             ##List of toppings\n",
    "            split_topings = [x.upper() for x in split_topings]   #Converting all items of list into uppercase\n",
    "                \n",
    "               \n",
    "            ##Check if all the toppings are valid\n",
    "            top_flag = 0\n",
    "            while top_flag == 0:\n",
    "                top_flag = 1\n",
    "                for item in split_topings:\n",
    "                    if item not in toppings_type_dict:\n",
    "                        toppings = input(item+\" :\" + \" is an invalid entry, please re-enter all toppings with valid codes\")\n",
    "                        split_topings = toppings.split(\",\")\n",
    "                        split_topings = [x.upper() for x in split_topings]\n",
    "                        top_flag = 0\n",
    "                        break\n",
    "\n",
    "            qty = 2000\n",
    "            while qty > 1000:\n",
    "                qty = input(\"Please input the number of pizzas to order\")\n",
    "                qty = int(qty)\n",
    "                if qty > 1000:\n",
    "                    print(\"You can order maximum 1000 pizzas in one order\")\n",
    "\n",
    "            print(\"\\n\")\n",
    "            print(\"Here is your order till now\")\n",
    "            print(\"Pizza Type: \",pizza_type_dict[piza_type][0])\n",
    "            print(\"Pizza Base: \", base_type_dict[base_type][0])\n",
    "            print(\"Toppings: \", str(split_topings))\n",
    "            for item in split_topings:\n",
    "                print(toppings_type_dict[item][0])\n",
    "            print(\"Number of pizzas: \", qty)\n",
    "            print(\"\\n\")\n",
    "            cnf = input(\" Press y to confirm, else to cancel press c\")\n",
    "            if cnf == 'y':\n",
    "                ord_tup = (piza_type, base_type, split_topings, qty)\n",
    "                total_bill += calculate_bill(ord_tup)\n",
    "                print(\"Your total bill till now is: \", total_bill)\n",
    "                add_cust_data(ord_tup, name, ord_num)\n",
    "                piza_type = input(\"Press 'X' to complete your order or to continue ordering, select a pizza type code:\" )\n",
    "                piza_type = piza_type.upper()\n",
    "            elif cnf == 'c':\n",
    "                piza_type = input(\"To order new pizza, select a pizza type code or press X to exit\")  \n",
    "                piza_type = piza_type.upper()\n",
    "            \n",
    "        else:\n",
    "            print_dict(pizza_type_dict)\n",
    "            piza_type = input(\"Please Enter a valid option\")\n",
    "            piza_type = piza_type.upper()\n",
    "            \n",
    "    if ord_num in cust_data[name].keys():        \n",
    "        print(\"Thank you for your order, Here is your final order\")\n",
    "        print_complete_order(name, ord_num)\n",
    "        print(\"Total amount to be paid is \" + str(total_bill) +\"$\")\n",
    "    else:\n",
    "        print(\" Thank you for visiting\")\n",
    "    "
   ]
  },
  {
   "cell_type": "code",
   "execution_count": 102,
   "metadata": {},
   "outputs": [
    {
     "name": "stdout",
     "output_type": "stream",
     "text": [
      "Welcome to the Pizza TakeAway \n",
      "Please enter your name :Karam\n",
      "Hello Karam, what type of Pizza would you like to have:\n",
      "Code, Type, Price\n",
      "P1, Margherita, 3.0\n",
      "P2, Chicago, 3.5\n",
      "P3, Greek, 3.0\n",
      "P4, California, 3.5\n",
      "P5, Farm house, 3.0\n",
      "please select from above options:p1\n",
      "\n",
      "\n",
      " Here are the types of base availabe: \n",
      "Code, Type, Price\n",
      "B1, Thin crust, 1.0\n",
      "B2, Thick Crust, 1.5\n",
      "B3, Cheese burst, 2.0\n",
      "Please enter your optionb1\n",
      "\n",
      "\n",
      "Please enter the toppings you would like to add from the following list\n",
      "Code, Type, Price\n",
      "T1, Olives, 0.5\n",
      "T2, Extra Cheese, 0.5\n",
      "T3, Mushrooms, 0.5\n",
      "T4, Green peppers, 0.5\n",
      "\n",
      "\n",
      "Enter toppings in a comma separated form e.g., if you want to add Olives and mushrooms, enter: T1,T3t1\n",
      "Please input the number of pizzas to order2\n",
      "\n",
      "\n",
      "Here is your order till now\n",
      "Pizza Type:  Margherita\n",
      "Pizza Base:  Thin crust\n",
      "Toppings:  ['T1']\n",
      "Olives\n",
      "Number of pizzas:  2\n",
      "\n",
      "\n",
      " Press y to confirm, else to cancel press cc\n",
      "To order new pizza, select a pizza type code or press X to exitX\n",
      " Thank you for visiting\n"
     ]
    }
   ],
   "source": [
    "if __name__ == '__main__':\n",
    "    pizza = \"./Types_of_Pizza.txt\"\n",
    "    base = \"./Types_of_Base.txt\"\n",
    "    toppings = \"./Types_of_toppings.txt\"\n",
    "    load_data(pizza, 'pizza')\n",
    "    load_data(base, 'base')\n",
    "    load_data(toppings, 'toppings')\n",
    "    order()\n",
    "    "
   ]
  },
  {
   "cell_type": "code",
   "execution_count": 103,
   "metadata": {},
   "outputs": [
    {
     "data": {
      "text/plain": [
       "{'Anmol': {'num_of_orders': 0}, 'Karam': {'num_of_orders': 0}}"
      ]
     },
     "execution_count": 103,
     "metadata": {},
     "output_type": "execute_result"
    }
   ],
   "source": [
    "cust_data"
   ]
  },
  {
   "cell_type": "code",
   "execution_count": null,
   "metadata": {},
   "outputs": [],
   "source": [
    "pizza_type_dict"
   ]
  },
  {
   "cell_type": "code",
   "execution_count": null,
   "metadata": {},
   "outputs": [],
   "source": [
    "s.upper()"
   ]
  },
  {
   "cell_type": "code",
   "execution_count": null,
   "metadata": {},
   "outputs": [],
   "source": []
  }
 ],
 "metadata": {
  "kernelspec": {
   "display_name": "Python 3",
   "language": "python",
   "name": "python3"
  },
  "language_info": {
   "codemirror_mode": {
    "name": "ipython",
    "version": 3
   },
   "file_extension": ".py",
   "mimetype": "text/x-python",
   "name": "python",
   "nbconvert_exporter": "python",
   "pygments_lexer": "ipython3",
   "version": "3.6.5"
  }
 },
 "nbformat": 4,
 "nbformat_minor": 2
}
